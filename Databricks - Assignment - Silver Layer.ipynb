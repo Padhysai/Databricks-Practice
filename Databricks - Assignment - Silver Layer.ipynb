{
 "cells": [
  {
   "cell_type": "code",
   "execution_count": 0,
   "metadata": {
    "application/vnd.databricks.v1+cell": {
     "cellMetadata": {
      "byteLimit": 2048000,
      "rowLimit": 10000
     },
     "inputWidgets": {},
     "nuid": "dd88da5e-5546-41c2-81b7-8ceb33cbfa38",
     "showTitle": false,
     "tableResultSettingsMap": {},
     "title": ""
    }
   },
   "outputs": [],
   "source": [
    "from pyspark.sql.functions import current_timestamp\n",
    "\n",
    "def scd1_merge_bronze_to_silver_sql(bronze_table: str, silver_table: str, primary_keys: list):\n",
    "\n",
    "    df_bronze = spark.table(bronze_table).withColumn(\"updated_at\", current_timestamp()).drop(\"inserted_at\")\n",
    "    df_bronze = df_bronze.dropDuplicates(subset=primary_keys)\n",
    "    df_bronze.createOrReplaceTempView(\"bronze_tmp\")\n",
    "    table_exist = spark.catalog.tableExists(silver_table)\n",
    "\n",
    "    if not table_exist:\n",
    "        df_bronze.write.format(\"delta\").mode(\"overwrite\").saveAsTable(silver_table)\n",
    "        print(f\"Created new silver table: {silver_table}\")\n",
    "        return\n",
    "    \n",
    "    pk_conditions = \" AND \".join([f\"target.{col} = source.{col}\" for col in primary_keys])\n",
    "    merge_sql = f\"\"\"\n",
    "        MERGE INTO {silver_table} AS target\n",
    "        USING bronze_tmp AS source\n",
    "        ON {pk_conditions}\n",
    "        WHEN MATCHED THEN\n",
    "          UPDATE SET *\n",
    "        WHEN NOT MATCHED THEN\n",
    "          INSERT *\n",
    "    \"\"\"\n",
    "    spark.sql(merge_sql)\n",
    "    print(f\"SCD Type 1 merge completed: {bronze_table} -> {silver_table}\")\n",
    "\n",
    "def cleanup(table_name):\n",
    "    \n",
    "    table_path = f\"/user/hive/warehouse/{table_name}\"\n",
    "    try:\n",
    "        dbutils.fs.rm(f\"dbfs:{table_path}\", True)\n",
    "    except:\n",
    "        print(f\"{table} files Not found\")\n",
    "    try:\n",
    "        spark.sql(f\"DROP TABLE {table}\")\n",
    "    except:\n",
    "        print(f\"{table} Not found\")\n"
   ]
  },
  {
   "cell_type": "code",
   "execution_count": 0,
   "metadata": {
    "application/vnd.databricks.v1+cell": {
     "cellMetadata": {
      "byteLimit": 2048000,
      "rowLimit": 10000
     },
     "inputWidgets": {},
     "nuid": "0dc4f1b5-22f9-4e69-9c32-32081e2996ea",
     "showTitle": false,
     "tableResultSettingsMap": {},
     "title": ""
    }
   },
   "outputs": [
    {
     "output_type": "stream",
     "name": "stdout",
     "output_type": "stream",
     "text": [
      "SCD Type 1 merge completed: media_customer_reviews_bronze -> media_customer_reviews_silver\nSCD Type 1 merge completed: media_gold_reviews_chunked_bronze -> media_gold_reviews_chunked_silver\nSCD Type 1 merge completed: sales_customers_bronze -> sales_customers_silver\nSCD Type 1 merge completed: sales_franchises_bronze -> sales_franchises_silver\nSCD Type 1 merge completed: sales_suppliers_bronze -> sales_suppliers_silver\nSCD Type 1 merge completed: sales_transactions_bronze -> sales_transactions_silver\n"
     ]
    }
   ],
   "source": [
    "scd1_config = [\n",
    "    {\n",
    "        \"bronze_table\": \"media_customer_reviews_bronze\",\n",
    "        \"silver_table\": \"media_customer_reviews_silver\",\n",
    "        \"primary_keys\": [\"new_id\"]\n",
    "    },\n",
    "    {\n",
    "        \"bronze_table\": \"media_gold_reviews_chunked_bronze\",\n",
    "        \"silver_table\": \"media_gold_reviews_chunked_silver\",\n",
    "        \"primary_keys\": [\"franchiseID\", \"chunk_id\"]\n",
    "    },\n",
    "    {\n",
    "        \"bronze_table\": \"sales_customers_bronze\",\n",
    "        \"silver_table\": \"sales_customers_silver\",\n",
    "        \"primary_keys\": [\"customerID\"]\n",
    "    },\n",
    "    {\n",
    "        \"bronze_table\": \"sales_franchises_bronze\",\n",
    "        \"silver_table\": \"sales_franchises_silver\",\n",
    "        \"primary_keys\": [\"franchiseID\"]\n",
    "    },\n",
    "    {\n",
    "        \"bronze_table\": \"sales_suppliers_bronze\",\n",
    "        \"silver_table\": \"sales_suppliers_silver\",\n",
    "        \"primary_keys\": [\"supplierID\"]\n",
    "    },\n",
    "    {\n",
    "        \"bronze_table\": \"sales_transactions_bronze\",\n",
    "        \"silver_table\": \"sales_transactions_silver\",\n",
    "        \"primary_keys\": [\"transactionID\"]\n",
    "    }\n",
    "]\n",
    "\n",
    "for config in scd1_config:\n",
    "    scd1_merge_bronze_to_silver_sql(\n",
    "        bronze_table=config[\"bronze_table\"],\n",
    "        silver_table=config[\"silver_table\"],\n",
    "        primary_keys=config[\"primary_keys\"]\n",
    "    )"
   ]
  }
 ],
 "metadata": {
  "application/vnd.databricks.v1+notebook": {
   "computePreferences": null,
   "dashboards": [],
   "environmentMetadata": {
    "base_environment": "",
    "environment_version": "2"
   },
   "inputWidgetPreferences": null,
   "language": "python",
   "notebookMetadata": {
    "mostRecentlyExecutedCommandWithImplicitDF": {
     "commandId": 1974509323551326,
     "dataframes": [
      "_sqldf"
     ]
    },
    "pythonIndentUnit": 4
   },
   "notebookName": "Databricks - Assignment - Silver Layer",
   "widgets": {}
  },
  "language_info": {
   "name": "python"
  }
 },
 "nbformat": 4,
 "nbformat_minor": 0
}