{
 "cells": [
  {
   "cell_type": "code",
   "execution_count": 0,
   "metadata": {
    "application/vnd.databricks.v1+cell": {
     "cellMetadata": {
      "byteLimit": 2048000,
      "rowLimit": 10000
     },
     "inputWidgets": {},
     "nuid": "7656d240-8af2-4671-a409-2a0e06afa689",
     "showTitle": false,
     "tableResultSettingsMap": {},
     "title": ""
    }
   },
   "outputs": [
    {
     "output_type": "stream",
     "name": "stdout",
     "output_type": "stream",
     "text": [
      "root\n |-- review: string (nullable = true)\n |-- franchiseID: long (nullable = true)\n |-- review_date: timestamp (nullable = true)\n |-- new_id: integer (nullable = true)\n\nroot\n |-- franchiseID: integer (nullable = true)\n |-- review_date: timestamp (nullable = true)\n |-- chunked_text: string (nullable = true)\n |-- chunk_id: string (nullable = true)\n |-- review_uri: string (nullable = true)\n\nroot\n |-- customerID: long (nullable = true)\n |-- first_name: string (nullable = true)\n |-- last_name: string (nullable = true)\n |-- email_address: string (nullable = true)\n |-- phone_number: string (nullable = true)\n |-- address: string (nullable = true)\n |-- city: string (nullable = true)\n |-- state: string (nullable = true)\n |-- country: string (nullable = true)\n |-- continent: string (nullable = true)\n |-- postal_zip_code: long (nullable = true)\n |-- gender: string (nullable = true)\n\nroot\n |-- franchiseID: long (nullable = true)\n |-- name: string (nullable = true)\n |-- city: string (nullable = true)\n |-- district: string (nullable = true)\n |-- zipcode: string (nullable = true)\n |-- country: string (nullable = true)\n |-- size: string (nullable = true)\n |-- longitude: double (nullable = true)\n |-- latitude: double (nullable = true)\n |-- supplierID: long (nullable = true)\n\nroot\n |-- supplierID: long (nullable = true)\n |-- name: string (nullable = true)\n |-- ingredient: string (nullable = true)\n |-- continent: string (nullable = true)\n |-- city: string (nullable = true)\n |-- district: string (nullable = true)\n |-- size: string (nullable = true)\n |-- longitude: double (nullable = true)\n |-- latitude: double (nullable = true)\n |-- approved: string (nullable = true)\n\nroot\n |-- transactionID: long (nullable = true)\n |-- customerID: long (nullable = true)\n |-- franchiseID: long (nullable = true)\n |-- dateTime: timestamp (nullable = true)\n |-- product: string (nullable = true)\n |-- quantity: long (nullable = true)\n |-- unitPrice: long (nullable = true)\n |-- totalPrice: long (nullable = true)\n |-- paymentMethod: string (nullable = true)\n |-- cardNumber: long (nullable = true)\n\n"
     ]
    }
   ],
   "source": [
    "df_media_customer_reviews = spark.read.table(\"media_customer_reviews_bronze\")\n",
    "df_media_customer_reviews.write.mode(\"overwrite\").saveAsTable(\"media_customer_reviews_silver\")\n",
    "df_media_customer_reviews.printSchema()\n",
    "\n",
    "df_media_gold_reviews_chunked = spark.read.table(\"media_gold_reviews_chunked_bronze\")\n",
    "df_media_gold_reviews_chunked.write.mode(\"overwrite\").saveAsTable(\"media_gold_reviews_chunked_silver\")\n",
    "df_media_gold_reviews_chunked.printSchema()\n",
    "\n",
    "df_sales_customers = spark.read.table(\"sales_customers_bronze\")\n",
    "df_sales_customers.write.mode(\"overwrite\").saveAsTable(\"sales_customers_silver\")\n",
    "df_sales_customers.printSchema()\n",
    "\n",
    "df_sales_franchises = spark.read.table(\"sales_franchises_bronze\")\n",
    "df_sales_franchises.write.mode(\"overwrite\").saveAsTable(\"sales_franchises_silver\")\n",
    "df_sales_franchises.printSchema()\n",
    "\n",
    "df_sales_suppliers = spark.read.table(\"sales_suppliers_bronze\")\n",
    "df_sales_suppliers.write.mode(\"overwrite\").saveAsTable(\"sales_suppliers_silver\")\n",
    "df_sales_suppliers.printSchema()\n",
    "\n",
    "df_sales_transactions = spark.read.table(\"sales_transactions_bronze\")\n",
    "df_sales_transactions.write.mode(\"append\").saveAsTable(\"sales_transactions_silver\")\n",
    "df_sales_transactions.printSchema()"
   ]
  },
  {
   "cell_type": "code",
   "execution_count": 0,
   "metadata": {
    "application/vnd.databricks.v1+cell": {
     "cellMetadata": {
      "byteLimit": 2048000,
      "implicitDf": true,
      "rowLimit": 10000
     },
     "inputWidgets": {},
     "nuid": "3bc7adcb-be89-49a1-bb04-e4a655a80253",
     "showTitle": false,
     "tableResultSettingsMap": {},
     "title": ""
    }
   },
   "outputs": [
    {
     "output_type": "display_data",
     "data": {
      "text/html": [
       "<style scoped>\n",
       "  .table-result-container {\n",
       "    max-height: 300px;\n",
       "    overflow: auto;\n",
       "  }\n",
       "  table, th, td {\n",
       "    border: 1px solid black;\n",
       "    border-collapse: collapse;\n",
       "  }\n",
       "  th, td {\n",
       "    padding: 5px;\n",
       "  }\n",
       "  th {\n",
       "    text-align: left;\n",
       "  }\n",
       "</style><div class='table-result-container'><table class='table-result'><thead style='background-color: white'><tr><th>product</th><th>no_of_products_sold</th></tr></thead><tbody><tr><td>Golden Gate Ginger</td><td>3865</td></tr><tr><td>Outback Oatmeal</td><td>3733</td></tr><tr><td>Austin Almond Biscotti</td><td>3716</td></tr><tr><td>Tokyo Tidbits</td><td>3662</td></tr><tr><td>Pearly Pies</td><td>3595</td></tr><tr><td>Orchard Oasis</td><td>3586</td></tr></tbody></table></div>"
      ]
     },
     "metadata": {
      "application/vnd.databricks.v1+output": {
       "addedWidgets": {},
       "aggData": [],
       "aggError": "",
       "aggOverflow": false,
       "aggSchema": [],
       "aggSeriesLimitReached": false,
       "aggType": "",
       "arguments": {},
       "columnCustomDisplayInfos": {},
       "data": [
        [
         "Golden Gate Ginger",
         3865
        ],
        [
         "Outback Oatmeal",
         3733
        ],
        [
         "Austin Almond Biscotti",
         3716
        ],
        [
         "Tokyo Tidbits",
         3662
        ],
        [
         "Pearly Pies",
         3595
        ],
        [
         "Orchard Oasis",
         3586
        ]
       ],
       "datasetInfos": [],
       "dbfsResultPath": null,
       "isJsonSchema": true,
       "metadata": {},
       "overflow": false,
       "plotOptions": {
        "customPlotOptions": {},
        "displayType": "table",
        "pivotAggregation": null,
        "pivotColumns": null,
        "xColumns": null,
        "yColumns": null
       },
       "removedWidgets": [],
       "schema": [
        {
         "metadata": "{}",
         "name": "product",
         "type": "\"string\""
        },
        {
         "metadata": "{}",
         "name": "no_of_products_sold",
         "type": "\"long\""
        }
       ],
       "type": "table"
      }
     },
     "output_type": "display_data"
    }
   ],
   "source": [
    "%sql\n",
    "Select \n",
    "product,\n",
    "sum(quantity) as no_of_products_sold\n",
    "from sales_transactions_silver\n",
    "group by product\n",
    "order by no_of_products_sold desc"
   ]
  },
  {
   "cell_type": "code",
   "execution_count": 0,
   "metadata": {
    "application/vnd.databricks.v1+cell": {
     "cellMetadata": {
      "byteLimit": 2048000,
      "implicitDf": true,
      "rowLimit": 10000
     },
     "inputWidgets": {},
     "nuid": "bcb4adf0-18b2-4a96-9ba3-9fb85ba3e183",
     "showTitle": false,
     "tableResultSettingsMap": {},
     "title": ""
    }
   },
   "outputs": [
    {
     "output_type": "display_data",
     "data": {
      "text/html": [
       "<style scoped>\n",
       "  .table-result-container {\n",
       "    max-height: 300px;\n",
       "    overflow: auto;\n",
       "  }\n",
       "  table, th, td {\n",
       "    border: 1px solid black;\n",
       "    border-collapse: collapse;\n",
       "  }\n",
       "  th, td {\n",
       "    padding: 5px;\n",
       "  }\n",
       "  th {\n",
       "    text-align: left;\n",
       "  }\n",
       "</style><div class='table-result-container'><table class='table-result'><thead style='background-color: white'><tr><th>supplierID</th><th>no_of_franchises</th></tr></thead><tbody><tr><td>4000022</td><td>1</td></tr><tr><td>4000034</td><td>1</td></tr><tr><td>4000021</td><td>1</td></tr><tr><td>4000005</td><td>1</td></tr><tr><td>4000003</td><td>1</td></tr><tr><td>4000044</td><td>1</td></tr><tr><td>4000004</td><td>1</td></tr><tr><td>4000037</td><td>1</td></tr><tr><td>4000039</td><td>1</td></tr><tr><td>4000047</td><td>1</td></tr><tr><td>4000045</td><td>1</td></tr><tr><td>4000031</td><td>1</td></tr><tr><td>4000009</td><td>1</td></tr><tr><td>4000015</td><td>1</td></tr><tr><td>4000019</td><td>1</td></tr><tr><td>4000013</td><td>1</td></tr><tr><td>4000026</td><td>1</td></tr><tr><td>4000018</td><td>1</td></tr><tr><td>4000028</td><td>1</td></tr><tr><td>4000032</td><td>1</td></tr><tr><td>4000033</td><td>1</td></tr><tr><td>4000001</td><td>1</td></tr><tr><td>4000000</td><td>1</td></tr><tr><td>4000029</td><td>1</td></tr><tr><td>4000007</td><td>1</td></tr><tr><td>4000008</td><td>1</td></tr><tr><td>4000025</td><td>1</td></tr><tr><td>4000038</td><td>1</td></tr><tr><td>4000041</td><td>1</td></tr><tr><td>4000020</td><td>1</td></tr><tr><td>4000046</td><td>1</td></tr><tr><td>4000027</td><td>1</td></tr><tr><td>4000043</td><td>1</td></tr><tr><td>4000024</td><td>1</td></tr><tr><td>4000035</td><td>1</td></tr><tr><td>4000017</td><td>1</td></tr><tr><td>4000010</td><td>1</td></tr><tr><td>4000002</td><td>1</td></tr><tr><td>4000036</td><td>1</td></tr><tr><td>4000012</td><td>1</td></tr><tr><td>4000023</td><td>1</td></tr><tr><td>4000014</td><td>1</td></tr><tr><td>4000040</td><td>1</td></tr><tr><td>4000016</td><td>1</td></tr><tr><td>4000030</td><td>1</td></tr><tr><td>4000006</td><td>1</td></tr><tr><td>4000042</td><td>1</td></tr><tr><td>4000011</td><td>1</td></tr></tbody></table></div>"
      ]
     },
     "metadata": {
      "application/vnd.databricks.v1+output": {
       "addedWidgets": {},
       "aggData": [],
       "aggError": "",
       "aggOverflow": false,
       "aggSchema": [],
       "aggSeriesLimitReached": false,
       "aggType": "",
       "arguments": {},
       "columnCustomDisplayInfos": {},
       "data": [
        [
         4000022,
         1
        ],
        [
         4000034,
         1
        ],
        [
         4000021,
         1
        ],
        [
         4000005,
         1
        ],
        [
         4000003,
         1
        ],
        [
         4000044,
         1
        ],
        [
         4000004,
         1
        ],
        [
         4000037,
         1
        ],
        [
         4000039,
         1
        ],
        [
         4000047,
         1
        ],
        [
         4000045,
         1
        ],
        [
         4000031,
         1
        ],
        [
         4000009,
         1
        ],
        [
         4000015,
         1
        ],
        [
         4000019,
         1
        ],
        [
         4000013,
         1
        ],
        [
         4000026,
         1
        ],
        [
         4000018,
         1
        ],
        [
         4000028,
         1
        ],
        [
         4000032,
         1
        ],
        [
         4000033,
         1
        ],
        [
         4000001,
         1
        ],
        [
         4000000,
         1
        ],
        [
         4000029,
         1
        ],
        [
         4000007,
         1
        ],
        [
         4000008,
         1
        ],
        [
         4000025,
         1
        ],
        [
         4000038,
         1
        ],
        [
         4000041,
         1
        ],
        [
         4000020,
         1
        ],
        [
         4000046,
         1
        ],
        [
         4000027,
         1
        ],
        [
         4000043,
         1
        ],
        [
         4000024,
         1
        ],
        [
         4000035,
         1
        ],
        [
         4000017,
         1
        ],
        [
         4000010,
         1
        ],
        [
         4000002,
         1
        ],
        [
         4000036,
         1
        ],
        [
         4000012,
         1
        ],
        [
         4000023,
         1
        ],
        [
         4000014,
         1
        ],
        [
         4000040,
         1
        ],
        [
         4000016,
         1
        ],
        [
         4000030,
         1
        ],
        [
         4000006,
         1
        ],
        [
         4000042,
         1
        ],
        [
         4000011,
         1
        ]
       ],
       "datasetInfos": [],
       "dbfsResultPath": null,
       "isJsonSchema": true,
       "metadata": {},
       "overflow": false,
       "plotOptions": {
        "customPlotOptions": {},
        "displayType": "table",
        "pivotAggregation": null,
        "pivotColumns": null,
        "xColumns": null,
        "yColumns": null
       },
       "removedWidgets": [],
       "schema": [
        {
         "metadata": "{}",
         "name": "supplierID",
         "type": "\"long\""
        },
        {
         "metadata": "{}",
         "name": "no_of_franchises",
         "type": "\"long\""
        }
       ],
       "type": "table"
      }
     },
     "output_type": "display_data"
    }
   ],
   "source": [
    "%sql\n",
    "SELECT\n",
    "supplierID,\n",
    "count(franchiseID) as no_of_franchises\n",
    "from sales_franchises_bronze\n",
    "GROUP BY supplierID\n",
    "ORDER BY no_of_franchises desc"
   ]
  },
  {
   "cell_type": "code",
   "execution_count": 0,
   "metadata": {
    "application/vnd.databricks.v1+cell": {
     "cellMetadata": {
      "byteLimit": 2048000,
      "implicitDf": true,
      "rowLimit": 10000
     },
     "inputWidgets": {},
     "nuid": "539152f7-2317-44d1-8b13-8c5e0dce705f",
     "showTitle": false,
     "tableResultSettingsMap": {},
     "title": ""
    }
   },
   "outputs": [
    {
     "output_type": "display_data",
     "data": {
      "text/html": [
       "<style scoped>\n",
       "  .table-result-container {\n",
       "    max-height: 300px;\n",
       "    overflow: auto;\n",
       "  }\n",
       "  table, th, td {\n",
       "    border: 1px solid black;\n",
       "    border-collapse: collapse;\n",
       "  }\n",
       "  th, td {\n",
       "    padding: 5px;\n",
       "  }\n",
       "  th {\n",
       "    text-align: left;\n",
       "  }\n",
       "</style><div class='table-result-container'><table class='table-result'><thead style='background-color: white'><tr><th>sales_month</th><th>sales_amount</th></tr></thead><tbody><tr><td>5</td><td>66471</td></tr></tbody></table></div>"
      ]
     },
     "metadata": {
      "application/vnd.databricks.v1+output": {
       "addedWidgets": {},
       "aggData": [],
       "aggError": "",
       "aggOverflow": false,
       "aggSchema": [],
       "aggSeriesLimitReached": false,
       "aggType": "",
       "arguments": {},
       "columnCustomDisplayInfos": {},
       "data": [
        [
         5,
         66471
        ]
       ],
       "datasetInfos": [],
       "dbfsResultPath": null,
       "isJsonSchema": true,
       "metadata": {},
       "overflow": false,
       "plotOptions": {
        "customPlotOptions": {},
        "displayType": "table",
        "pivotAggregation": null,
        "pivotColumns": null,
        "xColumns": null,
        "yColumns": null
       },
       "removedWidgets": [],
       "schema": [
        {
         "metadata": "{}",
         "name": "sales_month",
         "type": "\"integer\""
        },
        {
         "metadata": "{}",
         "name": "sales_amount",
         "type": "\"long\""
        }
       ],
       "type": "table"
      }
     },
     "output_type": "display_data"
    }
   ],
   "source": [
    "%sql\n",
    "SELECT\n",
    "month(dateTime) as sales_month,\n",
    "sum(totalPrice) as sales_amount\n",
    "from sales_transactions_bronze\n",
    "GROUP BY sales_month\n",
    "ORDER BY sales_amount desc"
   ]
  }
 ],
 "metadata": {
  "application/vnd.databricks.v1+notebook": {
   "computePreferences": null,
   "dashboards": [],
   "environmentMetadata": {
    "base_environment": "",
    "environment_version": "2"
   },
   "inputWidgetPreferences": null,
   "language": "python",
   "notebookMetadata": {
    "mostRecentlyExecutedCommandWithImplicitDF": {
     "commandId": 1974509323551329,
     "dataframes": [
      "_sqldf"
     ]
    },
    "pythonIndentUnit": 4
   },
   "notebookName": "Databricks - Assignment - Silver Layer",
   "widgets": {}
  },
  "language_info": {
   "name": "python"
  }
 },
 "nbformat": 4,
 "nbformat_minor": 0
}