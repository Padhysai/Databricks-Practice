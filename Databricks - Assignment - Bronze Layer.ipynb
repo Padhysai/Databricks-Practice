{
 "cells": [
  {
   "cell_type": "code",
   "execution_count": 0,
   "metadata": {
    "application/vnd.databricks.v1+cell": {
     "cellMetadata": {
      "byteLimit": 2048000,
      "rowLimit": 10000
     },
     "inputWidgets": {},
     "nuid": "82bc4ed2-7f88-46c9-8681-fca25738cf53",
     "showTitle": false,
     "tableResultSettingsMap": {},
     "title": ""
    }
   },
   "outputs": [],
   "source": [
    "from pyspark.sql.functions import current_timestamp\n",
    "\n",
    "def load_to_bronze_table(parquet_path: str, table_name: str):\n",
    "\n",
    "    table_exists = spark.catalog.tableExists(table_name)\n",
    "    df = spark.read.parquet(parquet_path)\n",
    "    df = df.withColumn('inserted_at', current_timestamp())\n",
    "    if table_exists:\n",
    "        df.write.format(\"delta\").mode(\"append\").saveAsTable(table_name)\n",
    "    else:\n",
    "        df.write.format(\"delta\").mode(\"overwrite\").saveAsTable(table_name)\n",
    "\n",
    "\n",
    "def cleanup(table_name):\n",
    "    \n",
    "    table_path = f\"/user/hive/warehouse/{table_name}\"\n",
    "    try:\n",
    "        dbutils.fs.rm(f\"dbfs:{table_path}\", True)\n",
    "    except:\n",
    "        print(f\"{table} files Not found\")\n",
    "    try:\n",
    "        spark.sql(f\"DROP TABLE {table}\")\n",
    "    except:\n",
    "        print(f\"{table} Not found\")"
   ]
  },
  {
   "cell_type": "code",
   "execution_count": 0,
   "metadata": {
    "application/vnd.databricks.v1+cell": {
     "cellMetadata": {
      "byteLimit": 2048000,
      "rowLimit": 10000
     },
     "inputWidgets": {},
     "nuid": "a7fa58da-ba37-481b-8970-1afd6facafb1",
     "showTitle": false,
     "tableResultSettingsMap": {},
     "title": ""
    }
   },
   "outputs": [],
   "source": [
    "file_table_mapping = {\n",
    "    \"/FileStore/shared_uploads/saiprasadpadhy@gmail.com/media_customer_reviews.parquet\": \"media_customer_reviews_bronze\",\n",
    "    \"/FileStore/shared_uploads/saiprasadpadhy@gmail.com/media_gold_reviews_chunked.parquet\": \"media_gold_reviews_chunked_bronze\",\n",
    "    \"/FileStore/shared_uploads/saiprasadpadhy@gmail.com/sales_customers.parquet\": \"sales_customers_bronze\",\n",
    "    \"/FileStore/shared_uploads/saiprasadpadhy@gmail.com/sales_franchises.parquet\": \"sales_franchises_bronze\",\n",
    "    \"/FileStore/shared_uploads/saiprasadpadhy@gmail.com/sales_suppliers.parquet\": \"sales_suppliers_bronze\",\n",
    "    \"/FileStore/shared_uploads/saiprasadpadhy@gmail.com/sales_transactions.parquet\": \"sales_transactions_bronze\",\n",
    "}\n",
    "\n",
    "for path, table in file_table_mapping.items():\n",
    "    load_to_bronze_table(path, table)\n",
    "    #cleanup(table)"
   ]
  }
 ],
 "metadata": {
  "application/vnd.databricks.v1+notebook": {
   "computePreferences": null,
   "dashboards": [],
   "environmentMetadata": {
    "base_environment": "",
    "environment_version": "2"
   },
   "inputWidgetPreferences": null,
   "language": "python",
   "notebookMetadata": {
    "mostRecentlyExecutedCommandWithImplicitDF": {
     "commandId": 3111725292416544,
     "dataframes": [
      "_sqldf"
     ]
    },
    "pythonIndentUnit": 4
   },
   "notebookName": "Databricks - Assignment - Bronze Layer",
   "widgets": {}
  },
  "language_info": {
   "name": "python"
  }
 },
 "nbformat": 4,
 "nbformat_minor": 0
}