{
 "cells": [
  {
   "cell_type": "code",
   "execution_count": 0,
   "metadata": {
    "application/vnd.databricks.v1+cell": {
     "cellMetadata": {
      "byteLimit": 2048000,
      "rowLimit": 10000
     },
     "inputWidgets": {},
     "nuid": "a47db252-ecd6-42f8-ab06-aec12f1d7e6e",
     "showTitle": false,
     "tableResultSettingsMap": {},
     "title": ""
    }
   },
   "outputs": [
    {
     "output_type": "stream",
     "name": "stdout",
     "output_type": "stream",
     "text": [
      "root\n |-- review: string (nullable = true)\n |-- franchiseID: long (nullable = true)\n |-- review_date: timestamp (nullable = true)\n |-- new_id: integer (nullable = true)\n\nroot\n |-- franchiseID: integer (nullable = true)\n |-- review_date: timestamp (nullable = true)\n |-- chunked_text: string (nullable = true)\n |-- chunk_id: string (nullable = true)\n |-- review_uri: string (nullable = true)\n\nroot\n |-- customerID: long (nullable = true)\n |-- first_name: string (nullable = true)\n |-- last_name: string (nullable = true)\n |-- email_address: string (nullable = true)\n |-- phone_number: string (nullable = true)\n |-- address: string (nullable = true)\n |-- city: string (nullable = true)\n |-- state: string (nullable = true)\n |-- country: string (nullable = true)\n |-- continent: string (nullable = true)\n |-- postal_zip_code: long (nullable = true)\n |-- gender: string (nullable = true)\n\nroot\n |-- franchiseID: long (nullable = true)\n |-- name: string (nullable = true)\n |-- city: string (nullable = true)\n |-- district: string (nullable = true)\n |-- zipcode: string (nullable = true)\n |-- country: string (nullable = true)\n |-- size: string (nullable = true)\n |-- longitude: double (nullable = true)\n |-- latitude: double (nullable = true)\n |-- supplierID: long (nullable = true)\n\nroot\n |-- supplierID: long (nullable = true)\n |-- name: string (nullable = true)\n |-- ingredient: string (nullable = true)\n |-- continent: string (nullable = true)\n |-- city: string (nullable = true)\n |-- district: string (nullable = true)\n |-- size: string (nullable = true)\n |-- longitude: double (nullable = true)\n |-- latitude: double (nullable = true)\n |-- approved: string (nullable = true)\n\nroot\n |-- transactionID: long (nullable = true)\n |-- customerID: long (nullable = true)\n |-- franchiseID: long (nullable = true)\n |-- dateTime: timestamp (nullable = true)\n |-- product: string (nullable = true)\n |-- quantity: long (nullable = true)\n |-- unitPrice: long (nullable = true)\n |-- totalPrice: long (nullable = true)\n |-- paymentMethod: string (nullable = true)\n |-- cardNumber: long (nullable = true)\n\n"
     ]
    }
   ],
   "source": [
    "df_media_customer_reviews = spark.read.parquet(\"/FileStore/shared_uploads/saiprasadpadhy@gmail.com/media_customer_reviews.parquet\")\n",
    "df_media_customer_reviews.write.mode(\"append\").saveAsTable(\"media_customer_reviews_bronze\")\n",
    "df_media_customer_reviews.printSchema()\n",
    "\n",
    "df_media_gold_reviews_chunked = spark.read.parquet(\"/FileStore/shared_uploads/saiprasadpadhy@gmail.com/media_gold_reviews_chunked.parquet\")\n",
    "df_media_gold_reviews_chunked.write.mode(\"append\").saveAsTable(\"media_gold_reviews_chunked_bronze\")\n",
    "df_media_gold_reviews_chunked.printSchema()\n",
    "\n",
    "df_sales_customers = spark.read.parquet(\"/FileStore/shared_uploads/saiprasadpadhy@gmail.com/sales_customers.parquet\")\n",
    "df_sales_customers.write.mode(\"append\").saveAsTable(\"sales_customers_bronze\")\n",
    "df_sales_customers.printSchema()\n",
    "\n",
    "df_sales_franchises = spark.read.parquet(\"/FileStore/shared_uploads/saiprasadpadhy@gmail.com/sales_franchises.parquet\")\n",
    "df_sales_franchises.write.mode(\"append\").saveAsTable(\"sales_franchises_bronze\")\n",
    "df_sales_franchises.printSchema()\n",
    "\n",
    "df_sales_suppliers = spark.read.parquet(\"/FileStore/shared_uploads/saiprasadpadhy@gmail.com/sales_suppliers.parquet\")\n",
    "df_sales_suppliers.write.mode(\"append\").saveAsTable(\"sales_suppliers_bronze\")\n",
    "df_sales_suppliers.printSchema()\n",
    "\n",
    "df_sales_transactions = spark.read.parquet(\"/FileStore/shared_uploads/saiprasadpadhy@gmail.com/sales_transactions.parquet\")\n",
    "df_sales_transactions.write.mode(\"append\").saveAsTable(\"sales_transactions_bronze\")\n",
    "df_sales_transactions.printSchema()"
   ]
  }
 ],
 "metadata": {
  "application/vnd.databricks.v1+notebook": {
   "computePreferences": null,
   "dashboards": [],
   "environmentMetadata": {
    "base_environment": "",
    "environment_version": "2"
   },
   "inputWidgetPreferences": null,
   "language": "python",
   "notebookMetadata": {
    "mostRecentlyExecutedCommandWithImplicitDF": {
     "commandId": 6591237032154113,
     "dataframes": [
      "_sqldf"
     ]
    },
    "pythonIndentUnit": 4
   },
   "notebookName": "Databricks - Assignment - Bronze Layer",
   "widgets": {}
  },
  "language_info": {
   "name": "python"
  }
 },
 "nbformat": 4,
 "nbformat_minor": 0
}