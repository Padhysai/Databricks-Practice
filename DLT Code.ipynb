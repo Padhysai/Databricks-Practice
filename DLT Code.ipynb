{
 "cells": [
  {
   "cell_type": "code",
   "execution_count": 0,
   "metadata": {
    "application/vnd.databricks.v1+cell": {
     "cellMetadata": {},
     "inputWidgets": {},
     "nuid": "e26ce2e3-05d8-42b5-8f7c-43b44a3bf668",
     "showTitle": false,
     "tableResultSettingsMap": {},
     "title": ""
    }
   },
   "outputs": [],
   "source": [
    "%sql\n",
    "CREATE OR REFRESH STREAMING LIVE TABLE sales_orders_raw\n",
    "AS\n",
    "SELECT * FROM cloud_files(\"${datasets_path}/retail-org/sales_orders/\", \"json\", map(\"cloudFiles.inferColumnTypes\", \"true\"))"
   ]
  },
  {
   "cell_type": "code",
   "execution_count": 0,
   "metadata": {
    "application/vnd.databricks.v1+cell": {
     "cellMetadata": {},
     "inputWidgets": {},
     "nuid": "43119f62-db7c-4bf0-a5fa-f91393a9688e",
     "showTitle": false,
     "tableResultSettingsMap": {},
     "title": ""
    }
   },
   "outputs": [],
   "source": [
    "%sql\n",
    "CREATE OR REFRESH STREAMING LIVE TABLE customers\n",
    "AS SELECT * FROM cloud_files(\"${datasets_path}/retail-org/customers/\", \"csv\");"
   ]
  },
  {
   "cell_type": "code",
   "execution_count": 0,
   "metadata": {
    "application/vnd.databricks.v1+cell": {
     "cellMetadata": {},
     "inputWidgets": {},
     "nuid": "9213d60a-d5d6-45d6-a5d4-38d7a11de2f6",
     "showTitle": false,
     "tableResultSettingsMap": {},
     "title": ""
    }
   },
   "outputs": [],
   "source": [
    "%sql\n",
    "CREATE OR REFRESH STREAMING LIVE TABLE sales_orders_cleaned(\n",
    "  CONSTRAINT valid_order_number EXPECT (order_number IS NOT NULL) ON VIOLATION DROP ROW\n",
    ")\n",
    "AS\n",
    "SELECT f.customer_id, f.customer_name, f.number_of_line_items, \n",
    "  TIMESTAMP(from_unixtime((cast(f.order_datetime as long)))) as order_datetime, \n",
    "  DATE(from_unixtime((cast(f.order_datetime as long)))) as order_date, \n",
    "  f.order_number, f.ordered_products, c.state, c.city, c.lon, c.lat, c.units_purchased, c.loyalty_segment\n",
    "  FROM STREAM(LIVE.sales_orders_raw) f\n",
    "  LEFT JOIN LIVE.customers c\n",
    "      ON c.customer_id = f.customer_id\n",
    "     AND c.customer_name = f.customer_name"
   ]
  },
  {
   "cell_type": "code",
   "execution_count": 0,
   "metadata": {
    "application/vnd.databricks.v1+cell": {
     "cellMetadata": {},
     "inputWidgets": {},
     "nuid": "0e563b75-3c81-4712-8622-3afb14d6fd41",
     "showTitle": false,
     "tableResultSettingsMap": {},
     "title": ""
    }
   },
   "outputs": [],
   "source": [
    "%sql\n",
    "CREATE OR REFRESH LIVE TABLE sales_order_in_la\n",
    "AS\n",
    "SELECT city, order_date, customer_id, customer_name, ordered_products_explode.curr, SUM(ordered_products_explode.price) as sales, SUM(ordered_products_explode.qty) as quantity, COUNT(ordered_products_explode.id) as product_count\n",
    "FROM (\n",
    "  SELECT city, order_date, customer_id, customer_name, EXPLODE(ordered_products) as ordered_products_explode\n",
    "  FROM LIVE.sales_orders_cleaned \n",
    "  WHERE city = 'Los Angeles'\n",
    "  )\n",
    "GROUP BY order_date, city, customer_id, customer_name, ordered_products_explode.curr"
   ]
  },
  {
   "cell_type": "code",
   "execution_count": 0,
   "metadata": {
    "application/vnd.databricks.v1+cell": {
     "cellMetadata": {},
     "inputWidgets": {},
     "nuid": "1f579b1f-b48e-4d37-bd9b-3b029a7727ba",
     "showTitle": false,
     "tableResultSettingsMap": {},
     "title": ""
    }
   },
   "outputs": [],
   "source": [
    "%sql\n",
    "CREATE OR REFRESH LIVE TABLE sales_order_in_chicago\n",
    "AS\n",
    "SELECT city, order_date, customer_id, customer_name, ordered_products_explode.curr, SUM(ordered_products_explode.price) as sales, SUM(ordered_products_explode.qty) as quantity, COUNT(ordered_products_explode.id) as product_count\n",
    "FROM (\n",
    "  SELECT city, order_date, customer_id, customer_name, EXPLODE(ordered_products) as ordered_products_explode\n",
    "  FROM LIVE.sales_orders_cleaned \n",
    "  WHERE city = 'Chicago'\n",
    "  )\n",
    "GROUP BY order_date, city, customer_id, customer_name, ordered_products_explode.curr"
   ]
  }
 ],
 "metadata": {
  "application/vnd.databricks.v1+notebook": {
   "computePreferences": null,
   "dashboards": [],
   "environmentMetadata": {
    "base_environment": "",
    "environment_version": "2"
   },
   "inputWidgetPreferences": null,
   "language": "python",
   "notebookMetadata": {
    "pythonIndentUnit": 4
   },
   "notebookName": "DLT Code",
   "widgets": {}
  },
  "language_info": {
   "name": "python"
  }
 },
 "nbformat": 4,
 "nbformat_minor": 0
}