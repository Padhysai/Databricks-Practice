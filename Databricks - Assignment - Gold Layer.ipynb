{
 "cells": [
  {
   "cell_type": "markdown",
   "metadata": {
    "application/vnd.databricks.v1+cell": {
     "cellMetadata": {},
     "inputWidgets": {},
     "nuid": "d262c7ef-e866-4a2e-9cdb-1a322b3e4891",
     "showTitle": false,
     "tableResultSettingsMap": {},
     "title": ""
    }
   },
   "source": [
    "## Most sold products to identify the top-selling items"
   ]
  },
  {
   "cell_type": "code",
   "execution_count": 0,
   "metadata": {
    "application/vnd.databricks.v1+cell": {
     "cellMetadata": {
      "byteLimit": 2048000,
      "rowLimit": 10000
     },
     "inputWidgets": {},
     "nuid": "538b9734-30ea-4e6b-ae54-114a4fca2046",
     "showTitle": false,
     "tableResultSettingsMap": {},
     "title": ""
    }
   },
   "outputs": [
    {
     "output_type": "stream",
     "name": "stdout",
     "output_type": "stream",
     "text": [
      "+--------------------+-------------------+\n|             product|no_of_products_sold|\n+--------------------+-------------------+\n|  Golden Gate Ginger|               3865|\n|     Outback Oatmeal|               3733|\n|Austin Almond Bis...|               3716|\n|       Tokyo Tidbits|               3662|\n|         Pearly Pies|               3595|\n|       Orchard Oasis|               3586|\n+--------------------+-------------------+\n\n"
     ]
    }
   ],
   "source": [
    "df = spark.table(\"sales_transactions_silver\")\n",
    "result_df = df.groupBy(\"product\") \\\n",
    "              .sum(\"quantity\") \\\n",
    "              .withColumnRenamed(\"sum(quantity)\", \"no_of_products_sold\") \\\n",
    "              .orderBy(\"no_of_products_sold\", ascending=False)\n",
    "result_df.write.mode(\"overwrite\").saveAsTable(\"top_sold_products\")\n",
    "result_df.show()"
   ]
  },
  {
   "cell_type": "markdown",
   "metadata": {
    "application/vnd.databricks.v1+cell": {
     "cellMetadata": {},
     "inputWidgets": {},
     "nuid": "55c6f64f-b9f2-46ae-9691-1d9e52b914fe",
     "showTitle": false,
     "tableResultSettingsMap": {},
     "title": ""
    }
   },
   "source": [
    "## Suppliers provide ingredients to the most franchises"
   ]
  },
  {
   "cell_type": "code",
   "execution_count": 0,
   "metadata": {
    "application/vnd.databricks.v1+cell": {
     "cellMetadata": {
      "byteLimit": 2048000,
      "rowLimit": 10000
     },
     "inputWidgets": {},
     "nuid": "da0559e8-ea51-4aab-9705-6aa1e43df727",
     "showTitle": false,
     "tableResultSettingsMap": {},
     "title": ""
    }
   },
   "outputs": [
    {
     "output_type": "stream",
     "name": "stdout",
     "output_type": "stream",
     "text": [
      "+----------+----------------+\n|supplierID|no_of_franchises|\n+----------+----------------+\n|   4000022|               1|\n|   4000034|               1|\n|   4000021|               1|\n|   4000005|               1|\n|   4000003|               1|\n|   4000044|               1|\n|   4000004|               1|\n|   4000037|               1|\n|   4000039|               1|\n|   4000047|               1|\n|   4000045|               1|\n|   4000031|               1|\n|   4000009|               1|\n|   4000015|               1|\n|   4000019|               1|\n|   4000013|               1|\n|   4000026|               1|\n|   4000018|               1|\n|   4000028|               1|\n|   4000032|               1|\n+----------+----------------+\nonly showing top 20 rows\n\n"
     ]
    }
   ],
   "source": [
    "df = spark.table(\"sales_franchises_silver\")\n",
    "result_df = df.groupBy(\"supplierID\") \\\n",
    "              .count() \\\n",
    "              .withColumnRenamed(\"count\", \"no_of_franchises\") \\\n",
    "              .orderBy(\"no_of_franchises\", ascending=False)\n",
    "result_df.write.mode(\"overwrite\").saveAsTable(\"top_suppliers\")\n",
    "result_df.show()"
   ]
  },
  {
   "cell_type": "markdown",
   "metadata": {
    "application/vnd.databricks.v1+cell": {
     "cellMetadata": {},
     "inputWidgets": {},
     "nuid": "e2af6391-584c-4cbc-b9fa-8159ef89242c",
     "showTitle": false,
     "tableResultSettingsMap": {},
     "title": ""
    }
   },
   "source": [
    "## Total sales per month"
   ]
  },
  {
   "cell_type": "code",
   "execution_count": 0,
   "metadata": {
    "application/vnd.databricks.v1+cell": {
     "cellMetadata": {
      "byteLimit": 2048000,
      "rowLimit": 10000
     },
     "inputWidgets": {},
     "nuid": "e2db1bee-614c-4402-b7c4-f7d682e08d0f",
     "showTitle": false,
     "tableResultSettingsMap": {},
     "title": ""
    }
   },
   "outputs": [
    {
     "output_type": "stream",
     "name": "stdout",
     "output_type": "stream",
     "text": [
      "+-----------+------------+\n|sales_month|sales_amount|\n+-----------+------------+\n|          5|     66471.0|\n+-----------+------------+\n\n"
     ]
    }
   ],
   "source": [
    "from pyspark.sql.functions import month, sum, col, to_date, expr\n",
    "\n",
    "df = spark.table(\"sales_transactions_silver\")\n",
    "\n",
    "df = df.withColumn(\"totalPrice\", col(\"totalPrice\").cast(\"double\"))\n",
    "df = df.withColumn(\"sales_month\", expr(\"extract(month from dateTime)\"))\n",
    "\n",
    "result_df = df.groupBy(\"sales_month\") \\\n",
    "              .agg(sum(\"totalPrice\").alias(\"sales_amount\")) \\\n",
    "              .orderBy(\"sales_amount\", ascending=False)\n",
    "result_df.write.mode(\"overwrite\").saveAsTable(\"total_sales_per_month\")\n",
    "result_df.show()"
   ]
  }
 ],
 "metadata": {
  "application/vnd.databricks.v1+notebook": {
   "computePreferences": null,
   "dashboards": [],
   "environmentMetadata": {
    "base_environment": "",
    "environment_version": "2"
   },
   "inputWidgetPreferences": null,
   "language": "python",
   "notebookMetadata": {
    "pythonIndentUnit": 4
   },
   "notebookName": "Databricks - Assignment - Gold Layer",
   "widgets": {}
  },
  "language_info": {
   "name": "python"
  }
 },
 "nbformat": 4,
 "nbformat_minor": 0
}