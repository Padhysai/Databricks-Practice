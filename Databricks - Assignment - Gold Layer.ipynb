{
 "cells": [
  {
   "cell_type": "code",
   "execution_count": 0,
   "metadata": {
    "application/vnd.databricks.v1+cell": {
     "cellMetadata": {
      "byteLimit": 2048000,
      "rowLimit": 10000
     },
     "inputWidgets": {},
     "nuid": "538b9734-30ea-4e6b-ae54-114a4fca2046",
     "showTitle": false,
     "tableResultSettingsMap": {},
     "title": ""
    }
   },
   "outputs": [],
   "source": [
    "df = spark.table(\"sales_transactions_silver\")\n",
    "result_df = df.groupBy(\"product\") \\\n",
    "              .sum(\"quantity\") \\\n",
    "              .withColumnRenamed(\"sum(quantity)\", \"no_of_products_sold\") \\\n",
    "              .orderBy(\"no_of_products_sold\", ascending=False)\n",
    "result_df.write.mode(\"overwrite\").saveAsTable(\"top_sold_products\")"
   ]
  },
  {
   "cell_type": "code",
   "execution_count": 0,
   "metadata": {
    "application/vnd.databricks.v1+cell": {
     "cellMetadata": {
      "byteLimit": 2048000,
      "rowLimit": 10000
     },
     "inputWidgets": {},
     "nuid": "da0559e8-ea51-4aab-9705-6aa1e43df727",
     "showTitle": false,
     "tableResultSettingsMap": {},
     "title": ""
    }
   },
   "outputs": [],
   "source": [
    "df = spark.table(\"sales_franchises_silver\")\n",
    "result_df = df.groupBy(\"supplierID\") \\\n",
    "              .count() \\\n",
    "              .withColumnRenamed(\"count\", \"no_of_franchises\") \\\n",
    "              .orderBy(\"no_of_franchises\", ascending=False)\n",
    "result_df.write.mode(\"overwrite\").saveAsTable(\"top_suppliers\")"
   ]
  },
  {
   "cell_type": "code",
   "execution_count": 0,
   "metadata": {
    "application/vnd.databricks.v1+cell": {
     "cellMetadata": {
      "byteLimit": 2048000,
      "rowLimit": 10000
     },
     "inputWidgets": {},
     "nuid": "8e2a2cd8-ade5-4e23-8ec3-fc0b5ceb6f73",
     "showTitle": false,
     "tableResultSettingsMap": {},
     "title": ""
    }
   },
   "outputs": [],
   "source": [
    "from pyspark.sql.functions import month, sum, col, to_date\n",
    "\n",
    "df = spark.table(\"sales_transactions_silver\")\n",
    "\n",
    "df = df.withColumn(\"totalPrice\", col(\"totalPrice\").cast(\"double\"))\n",
    "\n",
    "result_df = df.withColumn(\"sales_month\", month(df[\"dateTime\"])) \\\n",
    "              .groupBy(\"sales_month\") \\\n",
    "              .agg(sum(\"totalPrice\").alias(\"sales_amount\")) \\\n",
    "              .orderBy(\"sales_amount\", ascending=False)\n",
    "result_df.write.mode(\"overwrite\").saveAsTable(\"total_sales_per_month\")"
   ]
  },
  {
   "cell_type": "code",
   "execution_count": 0,
   "metadata": {
    "application/vnd.databricks.v1+cell": {
     "cellMetadata": {
      "byteLimit": 2048000,
      "rowLimit": 10000
     },
     "inputWidgets": {},
     "nuid": "e2db1bee-614c-4402-b7c4-f7d682e08d0f",
     "showTitle": false,
     "tableResultSettingsMap": {},
     "title": ""
    }
   },
   "outputs": [],
   "source": [
    "from pyspark.sql.functions import month, sum, col, to_date, expr\n",
    "\n",
    "df = spark.table(\"sales_transactions_silver\")\n",
    "\n",
    "df = df.withColumn(\"totalPrice\", col(\"totalPrice\").cast(\"double\"))\n",
    "df = df.withColumn(\"sales_month\", expr(\"extract(month from dateTime)\"))\n",
    "\n",
    "result_df = df.groupBy(\"sales_month\") \\\n",
    "              .agg(sum(\"totalPrice\").alias(\"sales_amount\")) \\\n",
    "              .orderBy(\"sales_amount\", ascending=False)\n",
    "result_df.write.mode(\"overwrite\").saveAsTable(\"total_sales_per_month\")"
   ]
  },
  {
   "cell_type": "code",
   "execution_count": 0,
   "metadata": {
    "application/vnd.databricks.v1+cell": {
     "cellMetadata": {},
     "inputWidgets": {},
     "nuid": "04bdb128-afe6-43d9-ab52-2d936ccb6715",
     "showTitle": false,
     "tableResultSettingsMap": {},
     "title": ""
    }
   },
   "outputs": [],
   "source": []
  }
 ],
 "metadata": {
  "application/vnd.databricks.v1+notebook": {
   "computePreferences": null,
   "dashboards": [],
   "environmentMetadata": {
    "base_environment": "",
    "environment_version": "2"
   },
   "inputWidgetPreferences": null,
   "language": "python",
   "notebookMetadata": {
    "pythonIndentUnit": 4
   },
   "notebookName": "Databricks - Assignment - Gold Layer",
   "widgets": {}
  },
  "language_info": {
   "name": "python"
  }
 },
 "nbformat": 4,
 "nbformat_minor": 0
}